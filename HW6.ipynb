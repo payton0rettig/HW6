{
  "nbformat": 4,
  "nbformat_minor": 0,
  "metadata": {
    "colab": {
      "provenance": [],
      "authorship_tag": "ABX9TyNQGNd0YbFbfjcmnLRdJ+JX",
      "include_colab_link": true
    },
    "kernelspec": {
      "name": "python3",
      "display_name": "Python 3"
    },
    "language_info": {
      "name": "python"
    }
  },
  "cells": [
    {
      "cell_type": "markdown",
      "metadata": {
        "id": "view-in-github",
        "colab_type": "text"
      },
      "source": [
        "<a href=\"https://colab.research.google.com/github/payton0rettig/HW6/blob/main/HW6.ipynb\" target=\"_parent\"><img src=\"https://colab.research.google.com/assets/colab-badge.svg\" alt=\"Open In Colab\"/></a>"
      ]
    },
    {
      "cell_type": "code",
      "execution_count": 63,
      "metadata": {
        "colab": {
          "base_uri": "https://localhost:8080/"
        },
        "id": "vonOAxHdE1dM",
        "outputId": "19d7e4b0-c37f-4862-bbc2-c148ff356568"
      },
      "outputs": [
        {
          "output_type": "stream",
          "name": "stdout",
          "text": [
            "settling velocity for 1e-05 micrometers of grain size 5.99491388703898e-05 m/s\n",
            "settling velocity for 2e-05 micrometers of grain size 0.0002397561728657687 m/s\n",
            "settling velocity for 3e-05 micrometers of grain size 0.0005392116450773421 m/s\n",
            "settling velocity for 4e-05 micrometers of grain size 0.000957773700606762 m/s\n",
            "settling velocity for 5e-05 micrometers of grain size 0.001494408453463698 m/s\n",
            "settling velocity for 6e-05 micrometers of grain size 0.0021474403887490087 m/s\n",
            "settiling velocity for 1e-05 micrometers for sediment size 9.267114858091091 hours\n",
            "settiling velocity for 2e-05 micrometers for sediment size 2.3171689342346657 hours\n",
            "settiling velocity for 3e-05 micrometers for sediment size 1.030310752053341 hours\n",
            "settiling velocity for 4e-05 micrometers for sediment size 0.5800488729264583 hours\n",
            "settiling velocity for 5e-05 micrometers for sediment size 0.3717561649680879 hours\n",
            "settiling velocity for 6e-05 micrometers for sediment size 0.2587059265841575 hours\n",
            "orifice needs to be 2.99112385681453 m in diameter to allow for 85% of the sediments to settle before leaving the pond and out of the stormwater\n",
            "energy saved per year is $ 87000.0\n"
          ]
        }
      ],
      "source": [
        "############################\n",
        "##Payton Rettig\n",
        "##Homework 6:Stormwater Pond\n",
        "############################\n",
        "\n",
        "import numpy as np\n",
        "sedimentsize=[10E-6,20E-6,30E-6,40E-6,50E-6,60E-6]\n",
        "def settling_velocity(sedimentsize):\n",
        "  sedimentden=2650\n",
        "  waterden=1000\n",
        "  g=9.81 #acceleration of gravity in m/s^2\n",
        "\n",
        "  sedimentvel=1\n",
        "  while True:\n",
        "    RP=(waterden*sedimentsize*sedimentvel)/1E-3 #1E-3 is the dynamic viscocity\n",
        "    CD=1.4+(36/(RP)) #finds drag coefficient on sediment grains\n",
        "    sedimentvel2=np.sqrt((4/3)*((9.81*sedimentsize)/(CD))*((sedimentden/waterden)-1))\n",
        "    if abs(sedimentvel2-sedimentvel)<=1E-9:\n",
        "      break\n",
        "    sedimentvel=sedimentvel2\n",
        "  return sedimentvel2\n",
        "\n",
        "#velocity in terms of sediment size\n",
        "settlingvel=[0]*6\n",
        "for x in range(len(sedimentsize)):\n",
        "  settlingvel[x]=settling_velocity(sedimentsize[x])\n",
        "  print('settling velocity for', sedimentsize[x], 'micrometers of grain size', settlingvel[x], 'm/s')\n",
        "\n",
        "#time as a function\n",
        "def settling_time(sedimentvel):\n",
        "  time=2/sedimentvel\n",
        "  return time\n",
        "settime=[0]*6\n",
        "for x in range(len(sedimentsize)):\n",
        "  settime[x]=settling_time(settlingvel[x])\n",
        "  print('settiling velocity for', sedimentsize[x], 'micrometers for sediment size', settime[x]/3600, 'hours')\n",
        "\n",
        "#orifice as a function\n",
        "pond_area=200*200 #surface area of the pond\n",
        "t=settime[2] #2 meters is the initial water height, final height being 0 meters\n",
        "\n",
        "def orifice_diameter(time, pond_area): #assuming that the pond is circular, finding the diameter of the pond hole\n",
        "  H_i=2\n",
        "  H_f=0\n",
        "  hole_diameter=0.1\n",
        "  orifice=((pond_area/(0.98*time))*(np.sqrt(2))*(np.sqrt(2/9.81))) #0.98 is the orifice discharge coefficient\n",
        "  time=pond_area*0.98*((H_i)-(H_f))**2/(9.81*orifice*2)\n",
        "  hole_diameter=np.sqrt(4*orifice/np.pi)\n",
        "  return hole_diameter\n",
        "\n",
        "print('orifice needs to be', orifice_diameter(t, pond_area), 'm in diameter to allow for 85% of the sediments to settle before leaving the pond and out of the stormwater')\n",
        "\n",
        "#energy savings\n",
        "def energy_savings(waste_E, waste_V, storm_per, cost): #storm_per is stormwater percentange, E is energy, V is volume, cost is for electricity\n",
        "  storm_V=waste_V*storm_per #finds stormwater volume\n",
        "  E_consumed=(storm_V/1E6)*waste_E #finds energy consumed\n",
        "  final_savings=E_consumed*cost\n",
        "  return final_savings\n",
        "waste_E=1875 #wastewater energy in megawatt hours\n",
        "waste_V=4E+9 #wastewater volume (4000000000)\n",
        "cost=0.116 #0.116 dollars per kwh\n",
        "storm_per=0.1 #10%\n",
        "saved=energy_savings(waste_E, waste_V, storm_per, cost)\n",
        "print('energy saved per year is $', saved)"
      ]
    }
  ]
}